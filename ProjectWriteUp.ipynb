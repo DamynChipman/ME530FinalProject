{
 "cells": [
  {
   "cell_type": "markdown",
   "metadata": {},
   "source": [
    "# The Shallow Water Equations: Derivation and Numerical Simulation\n",
    "\n",
    "## Advanced Fluid Dynamics Course Project\n",
    "\n",
    "## Damyn Chipman\n",
    "\n",
    "### May 5th, 2021"
   ]
  },
  {
   "cell_type": "markdown",
   "metadata": {},
   "source": [
    "### Outline\n",
    "\n",
    "1) Introduction\n",
    "\n",
    "2) From Incompressible Navier-Stokes to the Shallow Water Model\n",
    "\n",
    "3) An Unstructured Finite Volume Scheme\n",
    "\n",
    "4) Numerical Simulation\n",
    "\n",
    "5) Conclusion"
   ]
  },
  {
   "cell_type": "markdown",
   "metadata": {},
   "source": [
    "### Introduction\n",
    "\n",
    "The Shallow Water Equations (SWEs) model the free surface flow of a shallow fluid. The term \"shallow\" refers to an explicit assumption made in the formulation of the model that assumes the horizontal length scale is much larger than the veritcal height of the fluid. The SWEs can be derived from the incompressible Navier-Stokes equations by making the aforementioned assumption and depth integrating over the vertical momentum equation. The SWEs have been used to model tsunami wave development as well as debris flow on land.\n",
    "\n",
    "The SWEs form a hyperbolic system of partial differential equations (PDEs). They can also be expressed in a conservative form. As such, it is common to use a finite volume method to simulate the dynamics of the system. Finite volume methods can accurately model conservative, hyperbolic systems on complicated geometries.\n",
    "\n",
    "In this project, we will study the shallow water equations by deriving them from the incompressible Navier-Stokes equations, and then simulate the system with a finite volume method on an unstructured mesh. We then present \"flud dynamics in a box\" simulations to verify both the numerical method and conservative nature of the SWEs."
   ]
  },
  {
   "cell_type": "markdown",
   "metadata": {},
   "source": [
    "### From Incompressible Navier-Stokes to the Shallow Water Model\n",
    "\n",
    "Throughout this course, we have explored various solutions to the Navier-Stokes equations by making various assumptions and then solving the resulting (simplified) equations. Following this procedure, to derive the shallow water equations, we will start with the incompressible Navier-Stokes, given below in their vector form\n",
    "\n",
    "$$\\begin{align}\n",
    "\\frac{\\partial \\textbf{u}}{\\partial t} + \\textbf{u} \\cdot \\nabla \\textbf{u} &= -\\frac{1}{\\rho} \\nabla P + \\nu \\nabla^2 \\textbf{u} + \\textbf{g} \\\\\n",
    "\\frac{\\partial \\rho}{\\partial t} + \\rho \\nabla \\textbf{u} &= 0\n",
    "\\end{align}$$"
   ]
  },
  {
   "cell_type": "markdown",
   "metadata": {},
   "source": [
    "First, we assume that any viscous contributions are either negligible or we will incorporate them later as a source term. So for right now, $\\nu = 0$.\n",
    "\n",
    "#### Conservation of Momentum\n",
    "\n",
    "We start by looking at just the momentum equation. Before we look at the other assumptions, let's write out the full momentum equation into each component. We let $\\textbf{u} = (u, v, w)$ and $\\textbf{g} = (g_x, g_y, g_z) = (0, 0, g)$.\n",
    "\n",
    "$$\\begin{align}\n",
    "\\text{x:  } \\frac{\\partial u}{\\partial t} + u \\frac{\\partial u}{\\partial x} + v \\frac{\\partial u}{\\partial y} + w \\frac{\\partial u}{\\partial z} &= -\\frac{1}{\\rho} \\frac{\\partial P}{\\partial x} \\\\\n",
    "\\text{y:  } \\frac{\\partial v}{\\partial t} + u \\frac{\\partial v}{\\partial x} + v \\frac{\\partial v}{\\partial y} + w \\frac{\\partial v}{\\partial z} &= -\\frac{1}{\\rho} \\frac{\\partial P}{\\partial y} \\\\\n",
    "\\text{z:  } \\frac{\\partial w}{\\partial t} + u \\frac{\\partial w}{\\partial x} + v \\frac{\\partial w}{\\partial y} + w \\frac{\\partial w}{\\partial z} &= -\\frac{1}{\\rho} \\frac{\\partial P}{\\partial z} + g\n",
    "\\end{align}$$"
   ]
  },
  {
   "cell_type": "markdown",
   "metadata": {},
   "source": [
    "Now, the next assumption we make is that of shallow water. This means we assume that $H / L << 1$, where $H$ is a characteristic fluid depth and $L$ is a characteristic horizontal scale. Another way of viewing this assumption is by saying that $w$ is constant or zero. This reduces the z-component of momentum to just the hydrostatic equation\n",
    "\n",
    "$$\\begin{align}\n",
    "\\frac{\\partial P}{\\partial z} = \\rho g\n",
    "\\end{align}$$\n",
    "\n",
    "We integrate from the bottom of the fluid column to the top, or from $z=-b$ to $z=h$, as shown in the figure below\n",
    "\n",
    "<img src=assets/swe_model.pdf />"
   ]
  },
  {
   "cell_type": "markdown",
   "metadata": {},
   "source": [
    "The setup for this system is as follows. The horizontal variables are $x$ and $y$ (with their associated velocities) and the veritcal variable is $z$ (with its associated velocity). The vertical distances are set from a reference of $x=0$, which refers to sea level. Any height above sea level is given as $\\eta$, and the bathymetry $b$ is the topology of the sea floor. $h$ is the height of the water column from the surface of the sea floor."
   ]
  },
  {
   "cell_type": "markdown",
   "metadata": {},
   "source": [
    "Integrating from the bottom of the fluid column to the top yields:\n",
    "\n",
    "$$\\begin{align}\n",
    "P = \\int dP &= \\int_{-b}^{h} \\rho g dz \\\\\n",
    "&= \\rho g z \\Big|_{-b}^{h} \\\\\n",
    "&= \\rho g h + \\rho g b \\\\\n",
    "P(x,y,z,t) &= \\rho g h(x,y,t) + \\rho g b(x,y)\n",
    "\\end{align}$$"
   ]
  },
  {
   "cell_type": "markdown",
   "metadata": {},
   "source": [
    "As the pressure gradient term appears in the x- and y-components of the momentum equation, we can differentiate\n",
    "\n",
    "$$\\begin{align}\n",
    "\\frac{\\partial P}{\\partial x} &= \\rho g \\frac{\\partial h}{\\partial x} + \\rho g \\frac{\\partial b}{\\partial x} \\\\\n",
    "\\frac{\\partial P}{\\partial y} &= \\rho g \\frac{\\partial h}{\\partial y} + \\rho g \\frac{\\partial b}{\\partial y} \\\\\n",
    "\\end{align}$$\n",
    "\n",
    "and substitute our expression for pressure into the x- and y-components of momentum:\n",
    "\n",
    "$$\\begin{align}\n",
    "\\text{x:  } \\frac{\\partial u}{\\partial t} + u \\frac{\\partial u}{\\partial x} + v \\frac{\\partial u}{\\partial y} + w \\frac{\\partial u}{\\partial z} &= -\\big( g \\frac{\\partial h}{\\partial x} + g \\frac{\\partial b}{\\partial x} \\big) \\\\\n",
    "\\text{y:  } \\frac{\\partial v}{\\partial t} + u \\frac{\\partial v}{\\partial x} + v \\frac{\\partial v}{\\partial y} + w \\frac{\\partial v}{\\partial z} &= -\\big( g \\frac{\\partial h}{\\partial y} + g \\frac{\\partial b}{\\partial y} \\big). \\\\\n",
    "\\end{align}$$"
   ]
  },
  {
   "cell_type": "markdown",
   "metadata": {},
   "source": [
    "The next assumption we make is that the horizontal velocities $u$ and $v$ are independent of vertical depth, i.e., $\\frac{\\partial u}{\\partial z} = \\frac{\\partial v}{\\partial z} = 0$. We eliminate these terms and simplify a little to get the momentum equations for the shallow water equations:\n",
    "\n",
    "$$\\begin{align}\n",
    "\\frac{\\partial u}{\\partial t} + \\frac{\\partial}{\\partial x} \\Big( u^2 + \\frac{1}{2} g h \\Big) + \\frac{\\partial}{\\partial y} \\Big( u v \\Big) &= -g \\frac{\\partial b}{\\partial x} \\\\\n",
    "\\frac{\\partial v}{\\partial t} + \\frac{\\partial}{\\partial x} \\Big( u v \\Big) + \\frac{\\partial}{\\partial y} \\Big( v^2 + \\frac{1}{2} g h \\Big) &= -g \\frac{\\partial b}{\\partial y}\n",
    "\\end{align}$$"
   ]
  },
  {
   "cell_type": "markdown",
   "metadata": {},
   "source": [
    "#### Conservation of  Mass\n",
    "\n",
    "Next, we look at how the conservation of mass changes under these assumptions. Conservation of mass states:\n",
    "\n",
    "$$\\begin{align}\n",
    "\\frac{dm}{dt} = F_{net}.\n",
    "\\end{align}$$\n",
    "\n",
    "The net flux into our out of a fluid element through advection is given as\n",
    "\n",
    "$$\\begin{align}\n",
    "F_{net} &= -\\int_S \\rho \\textbf{u} \\cdot d\\textbf{S} \\\\\n",
    "&= -\\int_l \\rho h \\textbf{u} \\cdot \\hat{n} dl \\\\\n",
    "&= -\\int_A \\nabla \\cdot (\\rho h \\textbf{u}) dA\n",
    "\\end{align}$$"
   ]
  },
  {
   "cell_type": "markdown",
   "metadata": {},
   "source": [
    "where $\\textbf{S}$ is the surface area of the fluid element, $l$ is the perimeter of the fluid element, and $A$ is the cross-sectional area of the fluid element.\n",
    "\n",
    "The total mass inside a fluid element is given as $dm = \\rho dV = \\rho h dA \\Rightarrow m = \\int \\rho h dA$. Plugging these expressions into the conservation of mass yields:\n",
    "\n",
    "$$\\begin{align}\n",
    "\\frac{d}{dt} \\int_A \\rho h dA &= -\\int_A \\nabla \\cdot (\\rho h \\textbf{u}) dA \\\\\n",
    "\\Rightarrow \\int_A \\Big( \\frac{\\partial h}{\\partial t} + \\nabla \\cdot (h \\textbf{u}) \\Big) dA &= 0 \\\\\n",
    "\\Rightarrow \\frac{\\partial h}{\\partial t} + \\nabla \\cdot (h \\textbf{u}) &= 0 \\\\\n",
    "\\Rightarrow \\frac{\\partial h}{\\partial t} + \\frac{\\partial}{\\partial x} (hu) + \\frac{\\partial}{\\partial y} (hv) &= 0\n",
    "\\end{align}$$"
   ]
  },
  {
   "cell_type": "markdown",
   "metadata": {},
   "source": [
    "#### Shallow Water Equations (Non-Conservative Form)\n",
    "\n",
    "Summarizing the above gives the shallow water equations in their non-conservative form:\n",
    "\n",
    "$$\\begin{align}\n",
    "\\frac{\\partial h}{\\partial t} + \\frac{\\partial}{\\partial x} (hu) + \\frac{\\partial}{\\partial y} (hv) &= 0 \\\\\n",
    "\\frac{\\partial u}{\\partial t} + \\frac{\\partial}{\\partial x} \\Big( u^2 + \\frac{1}{2} g h \\Big) + \\frac{\\partial}{\\partial y} \\Big( u v \\Big) &= -g \\frac{\\partial b}{\\partial x} \\\\\n",
    "\\frac{\\partial v}{\\partial t} + \\frac{\\partial}{\\partial x} \\Big( u v \\Big) + \\frac{\\partial}{\\partial y} \\Big( v^2 + \\frac{1}{2} g h \\Big) &= -g \\frac{\\partial b}{\\partial y}\n",
    "\\end{align}$$"
   ]
  },
  {
   "cell_type": "markdown",
   "metadata": {},
   "source": [
    "#### Shallow Water Equations (Conservative Form)\n",
    "\n",
    "We can express the shallow water equations in terms of conservative variables $(h, hu, hv)$ by multiplying the momentum equation by $h$:\n",
    "\n",
    "$$\\begin{align}\n",
    "\\frac{\\partial h}{\\partial t} + \\frac{\\partial}{\\partial x} (hu) + \\frac{\\partial}{\\partial y} (hv) &= 0 \\\\\n",
    "\\frac{\\partial u}{\\partial t} + \\frac{\\partial}{\\partial x} \\Big( h u^2 + \\frac{1}{2} g h^2 \\Big) + \\frac{\\partial}{\\partial y} \\Big( h u v \\Big) &= -gh \\frac{\\partial b}{\\partial x} \\\\\n",
    "\\frac{\\partial v}{\\partial t} + \\frac{\\partial}{\\partial x} \\Big( h u v \\Big) + \\frac{\\partial}{\\partial y} \\Big( hv^2 + \\frac{1}{2} g h^2 \\Big) &= -gh \\frac{\\partial b}{\\partial y}.\n",
    "\\end{align}$$\n",
    "\n",
    "If we let $\\textbf{q}$ be our conservative variable, we can write the shallow water equations in the classic conservation form:\n",
    "\n",
    "$$\\begin{align}\n",
    "\\frac{\\partial \\textbf{q}}{\\partial t} + \\nabla \\cdot \\textbf{F}(\\textbf{q}) &= \\textbf{s}\n",
    "\\end{align}$$\n",
    "\n",
    "where\n",
    "\n",
    "$$\\begin{align}\n",
    "\\textbf{q} =\n",
    "\\begin{bmatrix}\n",
    "h \\\\\n",
    "hu \\\\\n",
    "hv \\\\\n",
    "\\end{bmatrix},\\ \\ \\ \n",
    "\\textbf{F}(\\textbf{q}) = \n",
    "\\begin{bmatrix}\n",
    "hu & hv \\\\\n",
    "hu^2 + \\frac{1}{2} g h^2 & h u v \\\\\n",
    "h u v & hv^2 + \\frac{1}{2} g h^2 \\\\\n",
    "\\end{bmatrix},\\ \\ \\ \n",
    "\\textbf{s} = \n",
    "\\begin{bmatrix}\n",
    "0 \\\\\n",
    "-g h \\frac{\\partial b}{\\partial x} \\\\\n",
    "-g h \\frac{\\partial b}{\\partial y} \\\\\n",
    "\\end{bmatrix}\n",
    "\\end{align}$$\n",
    "\n",
    "which is the form we will use when looking at the finite volume scheme. "
   ]
  },
  {
   "cell_type": "markdown",
   "metadata": {},
   "source": [
    "### An Unstructured Finite Volume Scheme\n",
    "\n",
    "For the purposes of modeling the shallow water equations, we will derive a finite volume scheme to work on an unstructured mesh. This gives us the liberty of modeling on complicated geometries.\n",
    "\n",
    "#### Finite Volume Scheme\n",
    "\n",
    "We start with the general hyperbolic conservation law\n",
    "\n",
    "$$\\begin{align}\n",
    "\\frac{\\partial \\textbf{q}}{\\partial t} + \\nabla \\cdot \\textbf{F}(\\textbf{q}) &= \\textbf{s}.\n",
    "\\end{align}$$\n",
    "\n",
    "We define an arbitrary space-time control volume $\\Omega_i \\times [t^{n}, t^{n+1}]$ and integrate over it:\n",
    "\n",
    "$$\\begin{align}\n",
    "\\int_{t^n}^{t^{n+1}} \\int_{\\Omega_i} \\frac{\\partial \\textbf{q}}{\\partial t} d\\Omega_i dt + \\int_{t^n}^{t^{n+1}} \\int_{\\Omega_i} \\nabla \\cdot \\textbf{F} d\\Omega_i dt &= \\int_{t^n}^{t^{n+1}} \\int_{\\Omega_i} \\textbf{s} d\\Omega_i dt \\\\\n",
    "\\Rightarrow \\int_{\\Omega_i} \\Big( \\textbf{q}(\\textbf{x}, t^{n+1}) - \\textbf{q}(\\textbf{x}, t^n) \\Big) d\\Omega_i + \\int_{t^n}^{t^{n+1}} \\int_{\\Omega_i} \\nabla \\cdot \\textbf{F} d\\Omega_i dt &= \\int_{t^n}^{t^{n+1}} \\int_{\\Omega_i} \\textbf{s} d\\Omega_i dt\n",
    "\\end{align}$$\n",
    "\n",
    "Now we apply the Divergence Theorem to the flux term:\n",
    "\n",
    "$$\\begin{align}\n",
    "\\int_{\\Omega_i} \\Big( \\textbf{q}(\\textbf{x}, t^{n+1}) - \\textbf{q}(\\textbf{x}, t^n) \\Big) d\\Omega_i + \\int_{t^n}^{t^{n+1}} \\int_{\\Gamma_i} \\textbf{F} \\cdot \\hat{n} d\\Gamma_i dt &= \\int_{t^n}^{t^{n+1}} \\int_{\\Omega_i} \\textbf{s} d\\Omega_i dt\n",
    "\\end{align}$$\n",
    "\n",
    "where $\\Gamma_i = \\partial \\Omega_i$ is the boundary of the space control volume."
   ]
  },
  {
   "cell_type": "markdown",
   "metadata": {},
   "source": [
    "Next, we assume that the control volume we are working with is a polygon (2D) or a polyhedron (3D). This allows us to use straight sections for the boundary of $\\Omega_i$ and sum over the line segments to perform the boundary integration in the flux term.\n",
    "\n",
    "<img src=assets/fij.pdf />\n",
    "\n",
    "We define the boundary between two cells as $\\Gamma_{ij}$, as shown in the figure above. We also assume that $\\Omega_i$ is a triangle for use in our meshing scheme.\n",
    "\n",
    "<img src=assets/neighbors.pdf />\n",
    "\n",
    "We define the set $\\mathcal{N}_i$ as the set of cells that are neighbors to cell $i$, $\\mathcal{N}_i = \\Omega_{i1}, ..., \\Omega_{iN_s}$, where $N_s$ is the number of sides of the polygons we are using (in this case, 3)."
   ]
  },
  {
   "cell_type": "markdown",
   "metadata": {},
   "source": [
    "Next, we introduce some definitions for the cell average, the $ij$-flux, and the source average. We define the cell average to be:\n",
    "\n",
    "$$\\begin{align}\n",
    "\\textbf{q}_i^n = \\frac{1}{|\\Omega_i|} \\int_{\\Omega_i} \\textbf{q}(\\textbf{x}_i, t^n) d\\Omega_i\n",
    "\\end{align}$$\n",
    "\n",
    "with\n",
    "\n",
    "$$\\begin{align}\n",
    "|\\Omega_i| = \\int_{\\Omega_i} d\\Omega_i\n",
    "\\end{align}$$\n",
    "\n",
    "as the area or volume of the control volume $\\Omega_i$. The $ij$-flux is defined as\n",
    "\n",
    "$$\\begin{align}\n",
    "\\textbf{F}_{ij} = \\frac{1}{\\Delta t} \\frac{1}{|\\Gamma_{ij}|} \\int_{t^n}^{t^{n+1}} \\textbf{F}(\\textbf{q}_i^n) \\cdot \\hat{n}_{ij} d\\Gamma_{ij} dt\n",
    "\\end{align}$$\n",
    "\n",
    "with\n",
    "\n",
    "$$\\begin{align}\n",
    "|\\Gamma_{ij}| = \\int_{\\Gamma_{ij}} d\\Gamma_{ij}\n",
    "\\end{align}$$\n",
    "\n",
    "being the length or surface area of the $ij$-boundary, and $\\Delta t = t^{n+1} - t^n$ being the time step. Lastly, we define the source average similar to the cell average:\n",
    "\n",
    "$$\\begin{align}\n",
    "\\textbf{s}_i^n = \\frac{1}{|\\Omega_i|} \\int_{\\Omega_i} \\textbf{s}(\\textbf{x}_i, t^n) d\\Omega_i.\n",
    "\\end{align}$$"
   ]
  },
  {
   "cell_type": "markdown",
   "metadata": {},
   "source": [
    "With these definitions, we can express the integral form of the hyperbolic conservation law in terms of cell and source averages, as well as a neighboring flux:\n",
    "\n",
    "$$\\begin{align}\n",
    "\\int_{\\Omega_i} \\Big( \\textbf{q}(\\textbf{x}, t^{n+1}) - \\textbf{q}(\\textbf{x}, t^n) \\Big) d\\Omega_i + \\int_{t^n}^{t^{n+1}} \\int_{\\Gamma_i} \\textbf{F} \\cdot \\hat{n} d\\Gamma_i dt &= \\int_{t^n}^{t^{n+1}} \\int_{\\Omega_i} \\textbf{s} d\\Omega_i dt \\\\\n",
    "\\Rightarrow \\big| \\Omega_i \\big| (\\textbf{q}_i^{n+1} - \\textbf{q}_i^n) + \\sum_{\\Omega_j \\in \\mathcal{N}_i} \\int_{t^n}^{t^{n+1}} \\int_{\\Gamma_{ij}} \\textbf{F} \\cdot \\hat{n}_{ij} d\\Gamma_{ij} dt &= \\big| \\Omega_i \\big| \\int_{t^n}^{t^{n+1}} \\textbf{s}_i^n dt \\\\\n",
    "\\Rightarrow \\big| \\Omega_i \\big| (\\textbf{q}_i^{n+1} - \\textbf{q}_i^n) + \\Delta t \\sum_{\\Omega_j \\in \\mathcal{N}_i} \\big| \\Gamma_{ij} \\big| \\textbf{F}_{ij} &= \\big| \\Omega_i \\big| \\int_{t^n}^{t^{n+1}} \\textbf{s}_i^n dt \\\\\n",
    "\\Rightarrow \\textbf{q}_i^{n+1} &= \\textbf{q}_i^n - \\frac{\\Delta t}{\\big| \\Omega_i \\big|} \\sum_{\\Omega_j \\in \\mathcal{N}_i} \\big| \\Gamma_{ij} \\big| \\textbf{F}_{ij} + \\int_{t^n}^{t^{n+1}} \\textbf{s}_i^n dt\n",
    "\\end{align}$$"
   ]
  },
  {
   "cell_type": "markdown",
   "metadata": {},
   "source": [
    "The final expression above is our finite volume scheme for advancing the solution. In its current form, it is exact due to our integration over the space-time control volume. In order to get a numerical expression, we need to introduce a scheme for approximating the flux term $\\textbf{F}_{ij}$ and handle the source term (which is done differently for each model)."
   ]
  },
  {
   "cell_type": "markdown",
   "metadata": {},
   "source": [
    "#### Numerical Flux\n",
    "\n",
    "For the flux, we will use a 1st-order Rusanov flux\n",
    "\n",
    "$$\\begin{align}\n",
    "\\textbf{F}_{ij} = \\frac{1}{2} \\big( \\textbf{F}(\\textbf{q}_i^n) + \\textbf{F}(\\textbf{q}_j^n) \\big) \\cdot \\hat{n}_{ij} - \\frac{1}{2} s_{max} (\\textbf{q}_j^n - \\textbf{q}_i^n),\n",
    "\\end{align}$$\n",
    "\n",
    "where\n",
    "\n",
    "$$\\begin{align}\n",
    "s_{max} = \\max \\Big| \\Lambda(\\textbf{q}_i^n, \\hat{n}_{ij}), \\Lambda(\\textbf{q}_{j}^n, \\hat{n}_{ij}) \\Big|.\n",
    "\\end{align}$$\n",
    "\n",
    "$\\Lambda$ is a function that takes a state vector $\\textbf{q}$ and a normal vector and returns the eigenvalues of the Jacobian of the model. Higher order fluxes can also be derived and implemented, but for our purposes, we will just use the Rusanov flux. Higher order fluxes (WENO, MUSCL, etc.) are more difficult to use on unstructured meshes (though certainly possible)."
   ]
  },
  {
   "cell_type": "markdown",
   "metadata": {},
   "source": [
    "#### Application to the Shallow Water Equations\n",
    "\n",
    "Before we can simulate the shallow water equations, we need three things: 1) how to find the eigenvalues of the Jacboian of the model, 2) how to handle any source terms (bathymetry, ground friction, etc.), and 3) how to include boundary conditions. We start with the $\\Lambda$ function.\n",
    "\n",
    "##### Eigenvalues\n",
    "\n",
    "We can rewrite the hyperbolic conservation law into a quasi-linear form as follows:\n",
    "\n",
    "$$\\begin{align}\n",
    "\\frac{\\partial \\textbf{q}}{\\partial t} + \\frac{\\partial \\textbf{f}(\\textbf{q})}{\\partial x} + \\frac{\\partial \\textbf{g}(\\textbf{q})}{\\partial y} &= \\textbf{s} \\\\\n",
    "\\rightarrow \\frac{\\partial \\textbf{q}}{\\partial t} + \\textbf{A}(\\textbf{q}) \\frac{\\partial \\textbf{q}}{\\partial x} + \\textbf{B}(\\textbf{q}) \\frac{\\partial \\textbf{q}}{\\partial y} &= \\textbf{s}\n",
    "\\end{align}$$\n",
    "\n",
    "where $\\textbf{A}$ and $\\textbf{B}$ are the Jacobians of $\\textbf{f}$ and $\\textbf{g}$, respectively.\n",
    "\n",
    "In order to actually find the Jacobian and subsequent eigenvalues, we use Mathematica to do the symbolic calculations. The Mathematica notebook used to do this can be found with this submission as `SWE_eigensystem.nb`.\n",
    "\n",
    "From it, we find the eigenvalues of the shallow water equations to be $(u - c, u, u + c)$ and $(v - c, v, v + c)$ for wave speed $c = \\sqrt{g h}$. We can define a function `SWELambda(q, n)` to be:\n",
    "\n",
    "```Python\n",
    "function SWELambda(q, n):\n",
    "    h = q_1\n",
    "    u = q_2 / q_1\n",
    "    v = q_3 / q_1\n",
    "    c = sqrt(g*h)\n",
    "    un = u*n_1 + v*n_2\n",
    "    l = [un - c, un, un + c]\n",
    "    return l\n",
    "end function\n",
    "```"
   ]
  },
  {
   "cell_type": "markdown",
   "metadata": {},
   "source": [
    "##### Source Terms\n",
    "\n",
    "The last piece we need to consider before we can simulate the SWEs is how to handle source term. There are various situations. If there is no bathymetry (i.e., the floor is level), then there is no source term and we ignore it. If we have a bathymetry field (time independent), we need to compute the gradient of the bathymetry field and then can use the source average to add the bathymetry contribution each time step at the cell center. Other source terms that could be included in a potential simulation are floor fricition contributions or time dependent additions to the field (i.e., water pouring into or coming out of the field, an impulse injection into the field, etc.). For any of these considerations, we will detail how to include the source term with the respective simulation."
   ]
  },
  {
   "cell_type": "markdown",
   "metadata": {},
   "source": [
    "##### Boundary Conditions\n",
    "\n",
    "Imposing boundary conditions with this finite volume scheme is more difficult than using a finite difference method, for example. In order to impose boundary conditions, we need to introduce the correct flux to add or subtract from the cell that lives on the boundary.\n",
    "\n",
    "Reflective boundaries are the most simple. With them, we just reverse the state going out of the domain back into the domain. For mass conservation, this is as simple as setting $q_i^{(1)} = q_j^{(1)}$, where $q_i$ is the boundary cell, $q_j$ refers to the 'neighbor'/boundary cell, and the superscript refers to the first variable in the state vector (in this case $h$)."
   ]
  },
  {
   "cell_type": "markdown",
   "metadata": {},
   "source": [
    "### Numerical Simulations\n",
    "\n",
    "To implement this finite volume scheme and simulate the shallow water equations, we implement the method in Matlab.\n",
    "\n",
    "Note: my original intention was to write a mesh reader, the finite volume scheme, and any visualization in C++. However, trying to install and use various software packages (VTK, VTK-m, libmesh, etc.) to read in a `.vtk` file took too long for me to finish for the purpose of this project. As such, I adjusted some Matlab code from a numerical methods in hyperbolic conservation law course. The code will be available with this submission, and I do intend to continue working on the C++ code for research and enthuiast purposes. I want to write a program that works on `.vtk` files that I can generate with a number of mesh/geometry generation tools (gmsh is a great, free example), constructs a mesh object, and employs the finite volume scheme described above to simulate the shallow water equations (or other hyperbolic conservation laws, i.e., gas dynamics, shock waves, etc.). I want to use `.vtk` files becuase they can be imported into ParaView for super cool visualizations.\n",
    "\n",
    "For this project, we look at two simulations: A simple \"fluid in a box\" simulation to show mass conservation and the dynamics of the system, and a wave simulation to simulate an incoming wave.\n",
    "\n",
    "The mesh used in these simulations is a triangular mesh built from a uniform point cloud. Matlab's `delaunay` triangulation function is used to generate the mesh structure. In theory, this would also work on an arbitrary point cloud, though for the purposes of this project, we just look at this uniform point cloud in a rectangular domain.\n",
    "\n",
    "#### Simulation 1\n",
    "\n",
    "In this simulation, we set the boundary conditions to be all reflective and initial conditions to a Gaussian spread\n",
    "\n",
    "$$\\begin{align}\n",
    "h(x,y,t=0) = A \\exp \\Big( -\\big(\\frac{(x - x_0)^2}{2 \\sigma_x^2} + \\frac{(y - y_0)^2}{2 \\sigma_y^2} \\big) \\Big)\n",
    "\\end{align}$$\n",
    "\n",
    "To verify conservation, we compute the total mass in the domain as\n",
    "\n",
    "$$\\begin{align}\n",
    "m &= \\int_{x_L}^{x_U} \\int_{y_L}^{y_U} \\rho h(x,y) dx dy \\\\\n",
    "&= (x_U - x_L) (y_U - y_L) \\rho \\sum_{\\Omega_i} h_i\n",
    "\\end{align}$$\n",
    "\n",
    "and check if it remains constant throughout the simulation.\n",
    "\n",
    "This is visualized in the animation below (or in `gaussian.gif` if reading this statically):"
   ]
  },
  {
   "cell_type": "markdown",
   "metadata": {},
   "source": [
    "<img src=assets/gaussian.gif />"
   ]
  },
  {
   "cell_type": "markdown",
   "metadata": {},
   "source": [
    "#### Simulation 2\n",
    "\n",
    "In this simulation, we set all but one side to reflective boundaries and the other to a source inflow wave specified as\n",
    "\n",
    "$$\\begin{align}\n",
    "h(t) &= h_0 + A \\text{sech}^2\\big( \\frac{C_1 (t - t_0)}{C_2} \\big) \\\\\n",
    "C_1 &= \\sqrt{g h_0} (1 + \\frac{A}{2 h_0}) \\\\\n",
    "C_2 &= h_0 \\sqrt{\\frac{4 h_0 C_1}{3 A \\sqrt{g h_0}}}\n",
    "\\end{align}$$\n",
    "\n",
    "where $h_0$ is the initial wave height (initial conditions are set to this uniform height), $A$ is the amplitude of the inflow wave, and $t_0$ is the time the crest of the wave enters the domain.\n",
    "\n",
    "This is shown below (or in `wave.gif`):"
   ]
  },
  {
   "cell_type": "markdown",
   "metadata": {},
   "source": [
    "<img src=assets/wave.gif />"
   ]
  },
  {
   "cell_type": "markdown",
   "metadata": {},
   "source": [
    "The idea behind this simulation is to use it as a verification study. Briggs, et al. perform an experiment with a wave pool that introduces a wave across one boundary, with a cone shaped island in the middle of the wave pool. Probes are set at different locations and the height of the water is monitored through the experiment. This simulation is the start of this validation; next steps are to introduce bathymetry and keep track of the water height at the locations of the probe. This work is ongoing."
   ]
  },
  {
   "cell_type": "markdown",
   "metadata": {},
   "source": [
    "### Conclusion\n",
    "\n",
    "In this project, we derived the shallow water equations from the incompressible Navier-Stokes equations, described a finite volume scheme for use on an unstructured mesh, and then simulated the shallow water equations with this scheme in Matlab. The shallow water equations are used to simulate incompressible fluids in domains where the horizontal length scale is much larger than the vertical fluid height. The SWEs are a free surface model. The finite volume scheme we implemented is a 1st order accurate Rusanov flux that works on a mesh of polygons. We use a triangular mesh for the simulations. Finally, we look at two simulations, one of an initial Gaussian distribution in a box and track the mass for verification, and one of a wave being introduced into the domain from the boundary. These simulations form the foundation for additional simulations. Next steps would be to introduce bathymetry, introduce floor friction, solve on more complex geometries, and add higher order physics to improve the model. Indeed, this is part of my current PhD research: to look at solvers for a shallow water model with an added dispersive term to the source term."
   ]
  },
  {
   "cell_type": "markdown",
   "metadata": {},
   "source": [
    "### Sources"
   ]
  },
  {
   "cell_type": "markdown",
   "metadata": {},
   "source": [
    "1) https://core.ac.uk/download/pdf/290001666.pdf\n",
    "\n",
    "2) https://www.researchgate.net/profile/Costas-Synolakis/publication/227132664_Laboratory_Experiments_of_Tsunami_Runup_on_a_Circular_Island/links/02e7e51f57e19b7e1e000000/Laboratory-Experiments-of-Tsunami-Runup-on-a-Circular-Island.pdf\n",
    "\n",
    "3) http://www.mathematik.tu-dortmund.de/lsiii/cms/papers/Kuehbacher2009.pdf\n",
    "\n",
    "4) http://empslocal.ex.ac.uk/people/staff/gv219/ecmm719/ess-ecmm719.pdf\n",
    "\n",
    "5) *Finite-Volume Methods for Hyperbolic Problems*, LeVeque.\n",
    "\n",
    "6) *Advanced Numerical Methods for Hyperbolic Equations and Applications*, Dumbser."
   ]
  }
 ],
 "metadata": {
  "kernelspec": {
   "display_name": "Python 3",
   "language": "python",
   "name": "python3"
  },
  "language_info": {
   "codemirror_mode": {
    "name": "ipython",
    "version": 3
   },
   "file_extension": ".py",
   "mimetype": "text/x-python",
   "name": "python",
   "nbconvert_exporter": "python",
   "pygments_lexer": "ipython3",
   "version": "3.7.4"
  }
 },
 "nbformat": 4,
 "nbformat_minor": 4
}
